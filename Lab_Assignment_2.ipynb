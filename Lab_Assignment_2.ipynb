{
  "nbformat": 4,
  "nbformat_minor": 0,
  "metadata": {
    "colab": {
      "provenance": [],
      "authorship_tag": "ABX9TyNZjYfOfIn9qpbcv5d/j59/",
      "include_colab_link": true
    },
    "kernelspec": {
      "name": "python3",
      "display_name": "Python 3"
    },
    "language_info": {
      "name": "python"
    }
  },
  "cells": [
    {
      "cell_type": "markdown",
      "metadata": {
        "id": "view-in-github",
        "colab_type": "text"
      },
      "source": [
        "<a href=\"https://colab.research.google.com/github/zun43d/CSE-413/blob/main/Lab_Assignment_2.ipynb\" target=\"_parent\"><img src=\"https://colab.research.google.com/assets/colab-badge.svg\" alt=\"Open In Colab\"/></a>"
      ]
    },
    {
      "cell_type": "markdown",
      "source": [
        "Name: **Zunaed Ahmed**\\\n",
        "ID: **2215151019**\\\n",
        "Section: **7A1**\\\n",
        "Course: **Simulation & Modeling LAB**"
      ],
      "metadata": {
        "id": "rDhbE-bZuQa6"
      }
    },
    {
      "cell_type": "code",
      "source": [
        "import numpy as np"
      ],
      "metadata": {
        "id": "oWeJwe_4vDzN"
      },
      "execution_count": 2,
      "outputs": []
    },
    {
      "cell_type": "markdown",
      "source": [
        "# **Q1**: Use numpy to create a 3×3 matrix of random integers between 1 and 50.\n",
        " - Run the code twice\n",
        " - With a fixed seed (`np.random.seed(10)`) to ensure reproducibility.  \n",
        " - Without setting a seed, allowing random values to change each time.  "
      ],
      "metadata": {
        "id": "Ya7fnkQLvFhe"
      }
    },
    {
      "cell_type": "code",
      "execution_count": 8,
      "metadata": {
        "id": "_ACpd4-0t9IP",
        "colab": {
          "base_uri": "https://localhost:8080/"
        },
        "outputId": "6155611a-dbfe-4529-8d85-dc876ee432f0"
      },
      "outputs": [
        {
          "output_type": "stream",
          "name": "stdout",
          "text": [
            "Matrix with seed:\n",
            " [[10 37 16]\n",
            " [ 1 29 26]\n",
            " [30 49 30]]\n",
            "\n",
            "Matrix without seed:\n",
            " [[32  3 29]\n",
            " [33 22 15]\n",
            " [31  9 23]]\n"
          ]
        }
      ],
      "source": [
        "np.random.seed(10)\n",
        "matrix_with_seed = np.random.randint(1, 50, size=(3, 3))\n",
        "print(\"Matrix with seed:\\n\", matrix_with_seed)\n",
        "\n",
        "np.random.seed(None)\n",
        "matrix_without_seed = np.random.randint(1, 50, size=(3, 3))\n",
        "print(\"\\nMatrix without seed:\\n\", matrix_without_seed)"
      ]
    },
    {
      "cell_type": "markdown",
      "source": [
        "- Observe and explain the differences in outputs."
      ],
      "metadata": {
        "id": "AZMUu-x4vZwj"
      }
    },
    {
      "cell_type": "markdown",
      "source": [
        "**1. With a fixed seed**\n",
        "- The random number will always be same no matter how many times we run the code.\n",
        "- This is usable when we need to run the code multiple times but want to generate the matrix only once.\n",
        "\n",
        "**2. Wihtout Seeding**\n",
        "- If there is no seed, everytime the code will generate a new matrix with random values"
      ],
      "metadata": {
        "id": "9_mkfccZvf8a"
      }
    }
  ]
}